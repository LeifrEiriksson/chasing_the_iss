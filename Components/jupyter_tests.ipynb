{
 "cells": [
  {
   "cell_type": "code",
   "execution_count": 1,
   "metadata": {},
   "outputs": [],
   "source": [
    "import requests\n",
    "import json\n",
    "from datetime import datetime\n",
    "import time\n",
    "import geocoder"
   ]
  },
  {
   "cell_type": "code",
   "execution_count": null,
   "metadata": {},
   "outputs": [],
   "source": [
    "class ISS():\n",
    "\n",
    "    def __init__ (self):\n",
    "\n",
    "        self.welcome = \"Ladies and Gentlemen, welcome aboard the ISS!\"\n",
    "        self.response = requests.get(\"http://api.open-notify.org/iss-now.json\").json() \n",
    "        self.iss_time = datetime.fromtimestamp(self.response['timestamp']).strftime('%H:%M:%S')\n",
    "\n",
    "\n",
    "    def verify(self):\n",
    "\n",
    "        if self.response['message'] ==  'success':\n",
    "           return \"Sucess! We're floating in space!\"\n",
    "\n",
    "        else:\n",
    "           return \"Ladies and Gentlemen, we're out of orbit!\"\n",
    "\n",
    "    def whos_aboard (self):\n",
    "        return [names['name'] for names in requests.get(\"http://api.open-notify.org/astros.json\").json()['people'] if names['craft'] == 'ISS']\n",
    "\n",
    "    def position (self):\n",
    "        self.iss_latitude = self.response['iss_position']['latitude']\n",
    "        self.iss_longitude = self.response['iss_position']['longitude']\n",
    "\n",
    "        return self.iss_latitude , self.iss_longitude "
   ]
  },
  {
   "cell_type": "code",
   "execution_count": 27,
   "metadata": {},
   "outputs": [],
   "source": [
    "class Where_am_I():\n",
    "\n",
    "    def __init__(self, nome):\n",
    "        self.nome = nome\n",
    "        self.current_time = datetime.now().strftime('%H:%M:%S')\n",
    "\n",
    "    def current_location_name (self):\n",
    "        return geocoder.ip('me')\n",
    "    \n",
    "    def coordinates(self):\n",
    "        self.latitude = geocoder.ip('me').lat\n",
    "        self.longitude = geocoder.ip('me').lng\n",
    "\n",
    "        return self.latitude , self. longitude"
   ]
  }
 ],
 "metadata": {
  "kernelspec": {
   "display_name": "Python 3",
   "language": "python",
   "name": "python3"
  },
  "language_info": {
   "codemirror_mode": {
    "name": "ipython",
    "version": 3
   },
   "file_extension": ".py",
   "mimetype": "text/x-python",
   "name": "python",
   "nbconvert_exporter": "python",
   "pygments_lexer": "ipython3",
   "version": "3.10.9"
  },
  "orig_nbformat": 4,
  "vscode": {
   "interpreter": {
    "hash": "b508b40f6929e9683f3578a44b8fe3214b01a8dd36e04b2d5e0a6170219f1bed"
   }
  }
 },
 "nbformat": 4,
 "nbformat_minor": 2
}
